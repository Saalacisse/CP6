{
 "cells": [
  {
   "cell_type": "markdown",
   "id": "546fd864",
   "metadata": {},
   "source": [
    "### Question 1\n",
    "\n",
    "Écrivez un programme Python pour convertir un tableau en une liste ordinaire avec les mêmes éléments.\n",
    "\n",
    "Nous pouvons utiliser la fonction np.tolist() . "
   ]
  },
  {
   "cell_type": "code",
   "execution_count": 2,
   "id": "26a0ac41",
   "metadata": {},
   "outputs": [],
   "source": [
    "import numpy as np"
   ]
  },
  {
   "cell_type": "code",
   "execution_count": 3,
   "id": "f3045f86",
   "metadata": {},
   "outputs": [
    {
     "data": {
      "text/plain": [
       "array([[0, 1, 2],\n",
       "       [3, 4, 5],\n",
       "       [6, 7, 8]])"
      ]
     },
     "execution_count": 3,
     "metadata": {},
     "output_type": "execute_result"
    }
   ],
   "source": [
    "a = np.array([[0,1,2],[3,4,5],[6,7,8]])\n",
    "a"
   ]
  },
  {
   "cell_type": "code",
   "execution_count": 11,
   "id": "8fc1f80a",
   "metadata": {},
   "outputs": [
    {
     "name": "stdout",
     "output_type": "stream",
     "text": [
      "[[0, 1, 2], [3, 4, 5], [6, 7, 8]]\n"
     ]
    }
   ],
   "source": [
    "b=a.tolist()\n",
    "print(b)"
   ]
  },
  {
   "cell_type": "markdown",
   "id": "c579fa4c",
   "metadata": {},
   "source": [
    "### Question 2 \n",
    "\n",
    "Écrivez un programme NumPy pour calculer la somme des éléments diagonaux d'un tableau donné.\n",
    "\n",
    "Astuce : Il existe deux méthodes possibles pour résoudre ce problème : \n",
    "\n",
    "Manuellement (sans fonction directe). \n",
    "Utilisation de la fonction trace "
   ]
  },
  {
   "cell_type": "code",
   "execution_count": 16,
   "id": "d589404f",
   "metadata": {},
   "outputs": [
    {
     "name": "stdout",
     "output_type": "stream",
     "text": [
      "12\n"
     ]
    }
   ],
   "source": [
    "a = np.array([[0,1,2],[3,4,5],[6,7,8]])\n",
    "sum_diag=np.trace(a)\n",
    "print(sum_diag)"
   ]
  },
  {
   "cell_type": "markdown",
   "id": "925d9a28",
   "metadata": {},
   "source": [
    "### Question 3\n",
    "\n",
    "Étant donné un tableau de votre choix, obtenez toutes les valeurs supérieures à X :\n",
    "\n",
    "Si a = [[1,2],[3,5]] et x = 2 : alors 3 et 5 sont supérieurs à 2. "
   ]
  },
  {
   "cell_type": "code",
   "execution_count": 31,
   "id": "60f89db2",
   "metadata": {},
   "outputs": [
    {
     "name": "stdout",
     "output_type": "stream",
     "text": [
      "Les valeurs supérieures à 2 sont: [3, 5]\n"
     ]
    }
   ],
   "source": [
    "array = [[1,2],[3,5]]\n",
    "X=2\n",
    "Sup_X=[]\n",
    "for valeur in array:\n",
    "    for i in valeur:\n",
    "        if i>X:\n",
    "            Sup_X.append(i)\n",
    "print(\"Les valeurs supérieures à\", X, \"sont:\", Sup_X)"
   ]
  },
  {
   "cell_type": "markdown",
   "id": "02570f4d",
   "metadata": {},
   "source": [
    "### Question 4\n",
    "\n",
    "Étant donné deux tableaux, A et B ont la même forme. \n",
    "\n",
    "La tâche consiste à appliquer l'addition à la main : C est le nouveau tableau.  "
   ]
  },
  {
   "cell_type": "code",
   "execution_count": 33,
   "id": "bae02ab9",
   "metadata": {},
   "outputs": [
    {
     "name": "stdout",
     "output_type": "stream",
     "text": [
      "[[ 6  8]\n",
      " [10 12]]\n"
     ]
    }
   ],
   "source": [
    "A=np.array([[1,2],[3,4]])\n",
    "B=np.array([[5,6],[7,8]])\n",
    "C=A+B\n",
    "print(C)"
   ]
  },
  {
   "cell_type": "markdown",
   "id": "90a126e7",
   "metadata": {},
   "source": [
    "### Question 5\n",
    "\n",
    "Écrivez un programme NumPy pour soustraire la moyenne de chaque ligne d'une matrice donnée.\n",
    "\n",
    "Astuce : utilisez la fonction moyenne "
   ]
  },
  {
   "cell_type": "code",
   "execution_count": 34,
   "id": "0e2d9ad2",
   "metadata": {},
   "outputs": [
    {
     "ename": "TypeError",
     "evalue": "array() takes from 1 to 2 positional arguments but 3 were given",
     "output_type": "error",
     "traceback": [
      "\u001b[1;31m---------------------------------------------------------------------------\u001b[0m",
      "\u001b[1;31mTypeError\u001b[0m                                 Traceback (most recent call last)",
      "\u001b[1;32m~\\AppData\\Local\\Temp\\ipykernel_6820\\1251744142.py\u001b[0m in \u001b[0;36m<module>\u001b[1;34m\u001b[0m\n\u001b[1;32m----> 1\u001b[1;33m \u001b[0mMatrice\u001b[0m\u001b[1;33m=\u001b[0m\u001b[0mnp\u001b[0m\u001b[1;33m.\u001b[0m\u001b[0marray\u001b[0m\u001b[1;33m(\u001b[0m\u001b[1;33m[\u001b[0m\u001b[1;36m45\u001b[0m\u001b[1;33m,\u001b[0m\u001b[1;36m62\u001b[0m\u001b[1;33m]\u001b[0m\u001b[1;33m,\u001b[0m\u001b[1;33m[\u001b[0m\u001b[1;36m24\u001b[0m\u001b[1;33m,\u001b[0m\u001b[1;36m14\u001b[0m\u001b[1;33m]\u001b[0m\u001b[1;33m,\u001b[0m\u001b[1;33m[\u001b[0m\u001b[1;36m23\u001b[0m\u001b[1;33m,\u001b[0m\u001b[1;36m9\u001b[0m\u001b[1;33m]\u001b[0m\u001b[1;33m)\u001b[0m\u001b[1;33m\u001b[0m\u001b[1;33m\u001b[0m\u001b[0m\n\u001b[0m\u001b[0;32m      2\u001b[0m \u001b[0mmoyen\u001b[0m\u001b[1;33m=\u001b[0m\u001b[0mnp\u001b[0m\u001b[1;33m.\u001b[0m\u001b[0mmean\u001b[0m\u001b[1;33m(\u001b[0m\u001b[0mMatrice\u001b[0m\u001b[1;33m)\u001b[0m\u001b[1;33m\u001b[0m\u001b[1;33m\u001b[0m\u001b[0m\n",
      "\u001b[1;31mTypeError\u001b[0m: array() takes from 1 to 2 positional arguments but 3 were given"
     ]
    }
   ],
   "source": [
    "Matrice=np.array([45,62],[24,14],[23,9])\n",
    "moyen=np.mean(Matrice)\n"
   ]
  },
  {
   "cell_type": "code",
   "execution_count": 38,
   "id": "321bc711",
   "metadata": {},
   "outputs": [
    {
     "name": "stdout",
     "output_type": "stream",
     "text": [
      "[[-1.  0.  1.]\n",
      " [-1.  0.  1.]\n",
      " [-1.  0.  1.]]\n"
     ]
    }
   ],
   "source": [
    "# Créer une matrice\n",
    "matrice = np.array([[1,2,3], [4,5,6], [7,8,9]])\n",
    "\n",
    "# Calculer la moyenne de chaque ligne\n",
    "moyenne = np.mean(matrice, axis=1)\n",
    "moyenne\n",
    "# Soustraire la moyenne de chaque ligne\n",
    "matrice_soustraction = matrice - moyenne[:, np.newaxis]\n",
    "\n",
    "print(matrice_soustraction)"
   ]
  },
  {
   "cell_type": "code",
   "execution_count": null,
   "id": "b592d936",
   "metadata": {},
   "outputs": [],
   "source": []
  }
 ],
 "metadata": {
  "kernelspec": {
   "display_name": "Python 3 (ipykernel)",
   "language": "python",
   "name": "python3"
  },
  "language_info": {
   "codemirror_mode": {
    "name": "ipython",
    "version": 3
   },
   "file_extension": ".py",
   "mimetype": "text/x-python",
   "name": "python",
   "nbconvert_exporter": "python",
   "pygments_lexer": "ipython3",
   "version": "3.9.13"
  }
 },
 "nbformat": 4,
 "nbformat_minor": 5
}
